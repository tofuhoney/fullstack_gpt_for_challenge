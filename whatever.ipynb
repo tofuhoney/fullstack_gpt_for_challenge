{
 "cells": [
  {
   "cell_type": "code",
   "execution_count": 1,
   "metadata": {},
   "outputs": [
    {
     "name": "stdout",
     "output_type": "stream",
     "text": [
      "In the land of code, where Python reigns,\n",
      "A language beloved for its simplicity and gains.\n",
      "With indentation as its guide,\n",
      "It helps programmers far and wide.\n",
      "\n",
      "From variables to loops, it's a breeze,\n",
      "To write code that flows with ease.\n",
      "Functions and classes, oh so neat,\n",
      "Python makes coding a joyful feat.\n",
      "\n",
      "So let's raise a toast to this language so grand,\n",
      "In the world of programming, it truly stands.\n",
      "Python, dear Python, we sing your praise,\n",
      "For making our coding days brighter in many ways.Sure! Let's break down the poem using programming concepts:\n",
      "\n",
      "1. **Python**: In the land of code, Python is the main programming language that is loved for its simplicity and benefits. It's like the ruler of the coding world.\n",
      "\n",
      "2. **Indentation**: Python uses indentation (spaces or tabs at the beginning of lines) to show the structure of the code. It helps programmers understand the flow of the program.\n",
      "\n",
      "3. **Variables and Loops**: Python makes it easy to work with variables (containers for storing data) and loops (repeating a set of instructions) in a smooth and straightforward way.\n",
      "\n",
      "4. **Functions and Classes**: Python allows you to define functions (blocks of reusable code) and classes (blueprints for creating objects) in an organized and clean manner.\n",
      "\n",
      "5. **Coding Joy**: Writing code in Python is enjoyable and satisfying because of its simplicity and readability. It makes programming a fun and pleasant experience.\n",
      "\n",
      "In summary, the poem celebrates Python as a fantastic programming language that simplifies coding tasks, promotes good coding practices, and brings joy to programmers. It's like a reliable friend that brightens our coding journey."
     ]
    },
    {
     "data": {
      "text/plain": [
       "AIMessageChunk(content=\"Sure! Let's break down the poem using programming concepts:\\n\\n1. **Python**: In the land of code, Python is the main programming language that is loved for its simplicity and benefits. It's like the ruler of the coding world.\\n\\n2. **Indentation**: Python uses indentation (spaces or tabs at the beginning of lines) to show the structure of the code. It helps programmers understand the flow of the program.\\n\\n3. **Variables and Loops**: Python makes it easy to work with variables (containers for storing data) and loops (repeating a set of instructions) in a smooth and straightforward way.\\n\\n4. **Functions and Classes**: Python allows you to define functions (blocks of reusable code) and classes (blueprints for creating objects) in an organized and clean manner.\\n\\n5. **Coding Joy**: Writing code in Python is enjoyable and satisfying because of its simplicity and readability. It makes programming a fun and pleasant experience.\\n\\nIn summary, the poem celebrates Python as a fantastic programming language that simplifies coding tasks, promotes good coding practices, and brings joy to programmers. It's like a reliable friend that brightens our coding journey.\")"
      ]
     },
     "execution_count": 1,
     "metadata": {},
     "output_type": "execute_result"
    }
   ],
   "source": [
    "from langchain.chat_models import ChatOpenAI\n",
    "from langchain.prompts import ChatPromptTemplate\n",
    "from langchain.callbacks import StreamingStdOutCallbackHandler\n",
    "\n",
    "chat = ChatOpenAI(\n",
    "    temperature=.1,\n",
    "    streaming=True,\n",
    "    callbacks=[StreamingStdOutCallbackHandler()],\n",
    ")\n",
    "poem_prompt = ChatPromptTemplate.from_messages([\n",
    "('system', 'You are a poet who enjoys writing poems with programming languages. You can create easy-to-understand poems that are both fun and educational.'),\n",
    "('user', 'I want to make poem with {language}.'),\n",
    "])\n",
    "explainer_prompt = ChatPromptTemplate.from_messages([\n",
    "('system', 'You are a teacher who enjoys explaining poem with programming languages to beginners. You can create easy-to-understand explanations that are both fun and educational.'),\n",
    "('user', 'I want to explain {poem} in simple terms.'),\n",
    "])\n",
    "\n",
    "poet = poem_prompt | chat\n",
    "explainer = explainer_prompt | chat\n",
    "whole = {'poem' : poet} | explainer\n",
    "whole.invoke({'language': 'Python'})"
   ]
  },
  {
   "cell_type": "code",
   "execution_count": 3,
   "metadata": {},
   "outputs": [
    {
     "name": "stdout",
     "output_type": "stream",
     "text": [
      "Here is some information about Saving Private Ryan:\n",
      "Director: Steven Spielberg\n",
      "Genre: War/Drama\n",
      "Year: 1998"
     ]
    },
    {
     "data": {
      "text/plain": [
       "AIMessageChunk(content='Here is some information about Saving Private Ryan:\\nDirector: Steven Spielberg\\nGenre: War/Drama\\nYear: 1998')"
      ]
     },
     "execution_count": 3,
     "metadata": {},
     "output_type": "execute_result"
    }
   ],
   "source": [
    "from langchain.prompts import FewShotChatMessagePromptTemplate, ChatPromptTemplate\n",
    "\n",
    "examples = [\n",
    "    {'movie': 'Lord of the Rings',\n",
    "     'answer': '''\n",
    "        Here is some information about Lord of the Rings:\n",
    "        Director: Peter Jackson\n",
    "        Genre: Fantasy\n",
    "        Year: 2001\n",
    "     '''},\n",
    "    {'movie': 'The Matrix',\n",
    "    'answer': '''\n",
    "        Here is some information about The Matrix:\n",
    "        Director: Lana Wachowski\n",
    "        Genre: Science Fiction\n",
    "        Year: 1999'\n",
    "        '''\n",
    "    },\n",
    "    {'movie': 'The Shawshank Redemption',\n",
    "    'answer': '''\n",
    "        Here is some information about The Shawshank Redemption:\n",
    "        Director: Frank Darabont\n",
    "        Genre: Drama\n",
    "        Year: 1994\n",
    "        '''\n",
    "    }\n",
    "]\n",
    "example_prompt = ChatPromptTemplate.from_messages([\n",
    "    ('human', 'What do you know about {movie}?'),\n",
    "    ('ai', '{answer}.'),\n",
    "])\n",
    "\n",
    "\n",
    "\n",
    "example_prompt = FewShotChatMessagePromptTemplate(\n",
    "    examples = examples,\n",
    "    example_prompt=example_prompt,\n",
    ")\n",
    "\n",
    "\n",
    "final_prompt = ChatPromptTemplate.from_messages([\n",
    "    ('system', \"You are a movie professional who enjoys tell about movies. But answer short and sweet.\"),\n",
    "    example_prompt,\n",
    "    ('user', \"Tell me about {movie}.\"),\n",
    "])\n",
    "\n",
    "\n",
    "\n",
    "chain = final_prompt | chat\n",
    "chain.invoke({\"movie\" : \"Saving private Ryan\"})"
   ]
  },
  {
   "cell_type": "code",
   "execution_count": 15,
   "metadata": {},
   "outputs": [
    {
     "name": "stdout",
     "output_type": "stream",
     "text": [
      "content='🕶️💊💻.'\n"
     ]
    }
   ],
   "source": [
    "from langchain.prompts import FewShotChatMessagePromptTemplate, MessagesPlaceholder, ChatPromptTemplate\n",
    "from langchain.chat_models import ChatOpenAI\n",
    "from langchain.schema.runnable import RunnablePassthrough\n",
    "from langchain.memory import ConversationSummaryBufferMemory\n",
    "\n",
    "chat = ChatOpenAI(\n",
    "    temperature=.1,\n",
    ")\n",
    "\n",
    "example_prompt = FewShotChatMessagePromptTemplate(\n",
    "    examples=[\n",
    "        {'movie': 'Topgun', 'answer': '🛩️👨‍✈️🔥'},\n",
    "        {'movie': 'GodFather', 'answer': '👨‍👨‍👦🔫🍝'},\n",
    "    ],\n",
    "    example_prompt=ChatPromptTemplate.from_messages([\n",
    "        ('human', 'Abstract the {movie} to 3 emoji'),\n",
    "        ('ai', '{answer}.'),\n",
    "    ]),\n",
    ")\n",
    "\n",
    "final_prompt = ChatPromptTemplate.from_messages(\n",
    "    [\n",
    "        ('system', \"You are a movie professional who abstrcat whole movies to 3 emoji.\"),\n",
    "        MessagesPlaceholder(variable_name='history'),\n",
    "        example_prompt,\n",
    "        ('user', \"Abstrcact the {movie} to 3 emoji.\"),\n",
    "    ]\n",
    ")\n",
    "\n",
    "def load_memory(_):\n",
    "    return memory.load_memory_variables({})['history']\n",
    "\n",
    "\n",
    "\n",
    "memory = ConversationSummaryBufferMemory(\n",
    "    llm=chat,\n",
    "    max_token_limit=120,\n",
    "    return_messages=True,\n",
    ")\n",
    "\n",
    "\n",
    "\n",
    "chain = RunnablePassthrough.assign(history=load_memory)|final_prompt | chat\n",
    "\n",
    "def invoke_chain(movie):\n",
    "    res = chain.invoke({'movie': movie})\n",
    "    print(res)\n",
    "    memory.save_context({'input': movie},{'output': str(res)})\n",
    "\n",
    "invoke_chain('The Matrix')\n"
   ]
  },
  {
   "cell_type": "code",
   "execution_count": 16,
   "metadata": {},
   "outputs": [
    {
     "name": "stdout",
     "output_type": "stream",
     "text": [
      "content='🧝🧙🗡️.'\n"
     ]
    }
   ],
   "source": [
    "invoke_chain('Lord of the Rings')"
   ]
  },
  {
   "cell_type": "code",
   "execution_count": 17,
   "metadata": {},
   "outputs": [
    {
     "name": "stdout",
     "output_type": "stream",
     "text": [
      "content='🕶️💊💻🧝🧙🗡️.'\n"
     ]
    }
   ],
   "source": [
    "invoke_chain('What was the previous two movies i asked?')"
   ]
  },
  {
   "cell_type": "code",
   "execution_count": null,
   "metadata": {},
   "outputs": [],
   "source": []
  }
 ],
 "metadata": {
  "kernelspec": {
   "display_name": ".venv",
   "language": "python",
   "name": "python3"
  },
  "language_info": {
   "codemirror_mode": {
    "name": "ipython",
    "version": 3
   },
   "file_extension": ".py",
   "mimetype": "text/x-python",
   "name": "python",
   "nbconvert_exporter": "python",
   "pygments_lexer": "ipython3",
   "version": "3.11.6"
  }
 },
 "nbformat": 4,
 "nbformat_minor": 2
}
