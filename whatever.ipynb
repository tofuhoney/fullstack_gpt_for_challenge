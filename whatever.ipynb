{
 "cells": [
  {
   "cell_type": "code",
   "execution_count": 1,
   "metadata": {},
   "outputs": [
    {
     "name": "stdout",
     "output_type": "stream",
     "text": [
      "In the land of code, where Python reigns,\n",
      "A language beloved for its simplicity and gains.\n",
      "With indentation as its guide,\n",
      "It helps programmers far and wide.\n",
      "\n",
      "From variables to loops, it's a breeze,\n",
      "To write code that flows with ease.\n",
      "Functions and classes, oh so neat,\n",
      "Python makes coding a delightful treat.\n",
      "\n",
      "So if you seek a language that's clear,\n",
      "Python is the one to hold dear.\n",
      "With its syntax clean and bright,\n",
      "It's a joy to code from day to night.Sure! Let's break down the poem using Python programming language concepts:\n",
      "\n",
      "1. **In the land of code, where Python reigns:** Python is a popular programming language known for its readability and simplicity.\n",
      "\n",
      "2. **A language beloved for its simplicity and gains:** Python is loved by many programmers because it is easy to learn and has many benefits.\n",
      "\n",
      "3. **With indentation as its guide:** In Python, proper indentation (spacing at the beginning of lines) is crucial for organizing code and indicating the structure of the program.\n",
      "\n",
      "4. **It helps programmers far and wide:** Python is used by programmers all over the world for various tasks due to its versatility.\n",
      "\n",
      "5. **From variables to loops, it's a breeze:** Python makes it easy to work with variables (containers for storing data) and loops (repeating a set of instructions).\n",
      "\n",
      "6. **To write code that flows with ease:** Writing code in Python is smooth and straightforward, making it enjoyable for programmers.\n",
      "\n",
      "7. **Functions and classes, oh so neat:** Python supports functions (blocks of code that perform a specific task) and classes (blueprints for creating objects), which help in organizing and reusing code effectively.\n",
      "\n",
      "8. **Python makes coding a delightful treat:** Using Python for programming is enjoyable and satisfying due to its user-friendly syntax and features.\n",
      "\n",
      "9. **So if you seek a language that's clear:** If you are looking for a programming language that is easy to understand and use,\n",
      "\n",
      "10. **Python is the one to hold dear:** Python is a great choice because of its clean and readable syntax.\n",
      "\n",
      "11. **With its syntax clean and bright:** Python's syntax (rules for writing code) is clear and easy to follow.\n",
      "\n",
      "12. **It's a joy to code from day to night:** Programming in Python can be a fun and rewarding experience, whether you're coding during the day or at night.\n",
      "\n",
      "I hope this explanation helps you understand how the poem relates to Python programming language concepts!"
     ]
    },
    {
     "data": {
      "text/plain": [
       "AIMessageChunk(content=\"Sure! Let's break down the poem using Python programming language concepts:\\n\\n1. **In the land of code, where Python reigns:** Python is a popular programming language known for its readability and simplicity.\\n\\n2. **A language beloved for its simplicity and gains:** Python is loved by many programmers because it is easy to learn and has many benefits.\\n\\n3. **With indentation as its guide:** In Python, proper indentation (spacing at the beginning of lines) is crucial for organizing code and indicating the structure of the program.\\n\\n4. **It helps programmers far and wide:** Python is used by programmers all over the world for various tasks due to its versatility.\\n\\n5. **From variables to loops, it's a breeze:** Python makes it easy to work with variables (containers for storing data) and loops (repeating a set of instructions).\\n\\n6. **To write code that flows with ease:** Writing code in Python is smooth and straightforward, making it enjoyable for programmers.\\n\\n7. **Functions and classes, oh so neat:** Python supports functions (blocks of code that perform a specific task) and classes (blueprints for creating objects), which help in organizing and reusing code effectively.\\n\\n8. **Python makes coding a delightful treat:** Using Python for programming is enjoyable and satisfying due to its user-friendly syntax and features.\\n\\n9. **So if you seek a language that's clear:** If you are looking for a programming language that is easy to understand and use,\\n\\n10. **Python is the one to hold dear:** Python is a great choice because of its clean and readable syntax.\\n\\n11. **With its syntax clean and bright:** Python's syntax (rules for writing code) is clear and easy to follow.\\n\\n12. **It's a joy to code from day to night:** Programming in Python can be a fun and rewarding experience, whether you're coding during the day or at night.\\n\\nI hope this explanation helps you understand how the poem relates to Python programming language concepts!\")"
      ]
     },
     "execution_count": 1,
     "metadata": {},
     "output_type": "execute_result"
    }
   ],
   "source": [
    "from langchain.chat_models import ChatOpenAI\n",
    "from langchain.prompts import ChatPromptTemplate\n",
    "from langchain.callbacks import StreamingStdOutCallbackHandler\n",
    "\n",
    "chat = ChatOpenAI(\n",
    "    temperature=.1,\n",
    "    streaming=True,\n",
    "    callbacks=[StreamingStdOutCallbackHandler()],\n",
    ")\n",
    "poem_prompt = ChatPromptTemplate.from_messages([\n",
    "('system', 'You are a poet who enjoys writing poems with programming languages. You can create easy-to-understand poems that are both fun and educational.'),\n",
    "('user', 'I want to make poem with {language}.'),\n",
    "])\n",
    "explainer_prompt = ChatPromptTemplate.from_messages([\n",
    "('system', 'You are a teacher who enjoys explaining poem with programming languages to beginners. You can create easy-to-understand explanations that are both fun and educational.'),\n",
    "('user', 'I want to explain {poem} in simple terms.'),\n",
    "])\n",
    "\n",
    "poet = poem_prompt | chat\n",
    "explainer = explainer_prompt | chat\n",
    "whole = {'poem' : poet} | explainer\n",
    "whole.invoke({'language': 'Python'})"
   ]
  },
  {
   "cell_type": "code",
   "execution_count": null,
   "metadata": {},
   "outputs": [],
   "source": []
  }
 ],
 "metadata": {
  "kernelspec": {
   "display_name": ".venv",
   "language": "python",
   "name": "python3"
  },
  "language_info": {
   "codemirror_mode": {
    "name": "ipython",
    "version": 3
   },
   "file_extension": ".py",
   "mimetype": "text/x-python",
   "name": "python",
   "nbconvert_exporter": "python",
   "pygments_lexer": "ipython3",
   "version": "3.11.6"
  }
 },
 "nbformat": 4,
 "nbformat_minor": 2
}
